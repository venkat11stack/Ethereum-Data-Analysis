{
 "cells": [
  {
   "cell_type": "code",
   "execution_count": 1,
   "metadata": {
    "id": "3qyFSk82XyI8",
    "tags": []
   },
   "outputs": [],
   "source": [
    "import json\n",
    "from ast import literal_eval\n",
    "import pandas as pd"
   ]
  },
  {
   "cell_type": "code",
   "execution_count": 2,
   "metadata": {
    "id": "6-sxQdINX3Nl",
    "tags": []
   },
   "outputs": [],
   "source": [
    "# Replace 'output_file_name' with the actual file name of the output file\n",
    "output_file_name = 'popular_scams_05-04-2023_15_37_10.txt'"
   ]
  },
  {
   "cell_type": "code",
   "execution_count": 3,
   "metadata": {
    "id": "pnJ-NcBCYEyK",
    "tags": []
   },
   "outputs": [],
   "source": [
    "# Read the output file content\n",
    "with open(output_file_name, 'r') as file:\n",
    "    data_str = file.read()"
   ]
  },
  {
   "cell_type": "code",
   "execution_count": 4,
   "metadata": {
    "id": "KFAEiuzMSqxl",
    "tags": []
   },
   "outputs": [],
   "source": [
    "# Convert the string to a list of lists\n",
    "data = literal_eval(data_str)"
   ]
  },
  {
   "cell_type": "code",
   "execution_count": 5,
   "metadata": {
    "colab": {
     "base_uri": "https://localhost:8080/"
    },
    "id": "vSEipJ5sSnod",
    "outputId": "79461b8b-2159-49fc-930b-d512cbf6bb28",
    "tags": []
   },
   "outputs": [
    {
     "data": {
      "text/plain": [
       "[[['5622', 'Scamming'], 1.6709083588072915e+22],\n",
       " [['2135', 'Phishing'], 6.583972305381559e+21],\n",
       " [['90', 'Phishing'], 5.972589629102412e+21],\n",
       " [['2258', 'Phishing'], 3.462807524703738e+21],\n",
       " [['2137', 'Phishing'], 3.389914242537185e+21],\n",
       " [['2132', 'Scamming'], 2.428074787748576e+21],\n",
       " [['88', 'Phishing'], 2.0677508920135265e+21],\n",
       " [['2358', 'Scamming'], 1.835176671481489e+21],\n",
       " [['2556', 'Phishing'], 1.8030465742641826e+21],\n",
       " [['1200', 'Phishing'], 1.6305774191330895e+21],\n",
       " [['2181', 'Phishing'], 1.1639041282770014e+21],\n",
       " [['41', 'Fake ICO'], 1.1513030257909175e+21],\n",
       " [['5820', 'Scamming'], 1.133973467186208e+21],\n",
       " [['86', 'Phishing'], 8.944561496957759e+20],\n",
       " [['2193', 'Phishing'], 8.827100174717212e+20]]"
      ]
     },
     "execution_count": 5,
     "metadata": {},
     "output_type": "execute_result"
    }
   ],
   "source": [
    "data"
   ]
  },
  {
   "cell_type": "code",
   "execution_count": 6,
   "metadata": {
    "id": "0Php6Zc0YF-h",
    "tags": []
   },
   "outputs": [],
   "source": [
    "# Preprocess data and create a DataFrame\n",
    "rows = []\n",
    "for item in data:\n",
    "    scam_id, scam_type = item[0]\n",
    "    ether = item[1]\n",
    "    rows.append([scam_id, scam_type, ether])\n",
    "\n",
    "df = pd.DataFrame(rows, columns=['scam_id', 'scam_type', 'ether'])"
   ]
  },
  {
   "cell_type": "code",
   "execution_count": 7,
   "metadata": {
    "colab": {
     "base_uri": "https://localhost:8080/",
     "height": 519
    },
    "id": "D0BdzFz6YJYh",
    "outputId": "930e113c-e2d1-408f-c929-c1230c3b5f2e",
    "tags": []
   },
   "outputs": [
    {
     "data": {
      "text/html": [
       "<div>\n",
       "<style scoped>\n",
       "    .dataframe tbody tr th:only-of-type {\n",
       "        vertical-align: middle;\n",
       "    }\n",
       "\n",
       "    .dataframe tbody tr th {\n",
       "        vertical-align: top;\n",
       "    }\n",
       "\n",
       "    .dataframe thead th {\n",
       "        text-align: right;\n",
       "    }\n",
       "</style>\n",
       "<table border=\"1\" class=\"dataframe\">\n",
       "  <thead>\n",
       "    <tr style=\"text-align: right;\">\n",
       "      <th></th>\n",
       "      <th>scam_id</th>\n",
       "      <th>scam_type</th>\n",
       "      <th>ether</th>\n",
       "    </tr>\n",
       "  </thead>\n",
       "  <tbody>\n",
       "    <tr>\n",
       "      <th>0</th>\n",
       "      <td>5622</td>\n",
       "      <td>Scamming</td>\n",
       "      <td>1.670908e+22</td>\n",
       "    </tr>\n",
       "    <tr>\n",
       "      <th>1</th>\n",
       "      <td>2135</td>\n",
       "      <td>Phishing</td>\n",
       "      <td>6.583972e+21</td>\n",
       "    </tr>\n",
       "    <tr>\n",
       "      <th>2</th>\n",
       "      <td>90</td>\n",
       "      <td>Phishing</td>\n",
       "      <td>5.972590e+21</td>\n",
       "    </tr>\n",
       "    <tr>\n",
       "      <th>3</th>\n",
       "      <td>2258</td>\n",
       "      <td>Phishing</td>\n",
       "      <td>3.462808e+21</td>\n",
       "    </tr>\n",
       "    <tr>\n",
       "      <th>4</th>\n",
       "      <td>2137</td>\n",
       "      <td>Phishing</td>\n",
       "      <td>3.389914e+21</td>\n",
       "    </tr>\n",
       "    <tr>\n",
       "      <th>5</th>\n",
       "      <td>2132</td>\n",
       "      <td>Scamming</td>\n",
       "      <td>2.428075e+21</td>\n",
       "    </tr>\n",
       "    <tr>\n",
       "      <th>6</th>\n",
       "      <td>88</td>\n",
       "      <td>Phishing</td>\n",
       "      <td>2.067751e+21</td>\n",
       "    </tr>\n",
       "    <tr>\n",
       "      <th>7</th>\n",
       "      <td>2358</td>\n",
       "      <td>Scamming</td>\n",
       "      <td>1.835177e+21</td>\n",
       "    </tr>\n",
       "    <tr>\n",
       "      <th>8</th>\n",
       "      <td>2556</td>\n",
       "      <td>Phishing</td>\n",
       "      <td>1.803047e+21</td>\n",
       "    </tr>\n",
       "    <tr>\n",
       "      <th>9</th>\n",
       "      <td>1200</td>\n",
       "      <td>Phishing</td>\n",
       "      <td>1.630577e+21</td>\n",
       "    </tr>\n",
       "    <tr>\n",
       "      <th>10</th>\n",
       "      <td>2181</td>\n",
       "      <td>Phishing</td>\n",
       "      <td>1.163904e+21</td>\n",
       "    </tr>\n",
       "    <tr>\n",
       "      <th>11</th>\n",
       "      <td>41</td>\n",
       "      <td>Fake ICO</td>\n",
       "      <td>1.151303e+21</td>\n",
       "    </tr>\n",
       "    <tr>\n",
       "      <th>12</th>\n",
       "      <td>5820</td>\n",
       "      <td>Scamming</td>\n",
       "      <td>1.133973e+21</td>\n",
       "    </tr>\n",
       "    <tr>\n",
       "      <th>13</th>\n",
       "      <td>86</td>\n",
       "      <td>Phishing</td>\n",
       "      <td>8.944561e+20</td>\n",
       "    </tr>\n",
       "    <tr>\n",
       "      <th>14</th>\n",
       "      <td>2193</td>\n",
       "      <td>Phishing</td>\n",
       "      <td>8.827100e+20</td>\n",
       "    </tr>\n",
       "  </tbody>\n",
       "</table>\n",
       "</div>"
      ],
      "text/plain": [
       "   scam_id scam_type         ether\n",
       "0     5622  Scamming  1.670908e+22\n",
       "1     2135  Phishing  6.583972e+21\n",
       "2       90  Phishing  5.972590e+21\n",
       "3     2258  Phishing  3.462808e+21\n",
       "4     2137  Phishing  3.389914e+21\n",
       "5     2132  Scamming  2.428075e+21\n",
       "6       88  Phishing  2.067751e+21\n",
       "7     2358  Scamming  1.835177e+21\n",
       "8     2556  Phishing  1.803047e+21\n",
       "9     1200  Phishing  1.630577e+21\n",
       "10    2181  Phishing  1.163904e+21\n",
       "11      41  Fake ICO  1.151303e+21\n",
       "12    5820  Scamming  1.133973e+21\n",
       "13      86  Phishing  8.944561e+20\n",
       "14    2193  Phishing  8.827100e+20"
      ]
     },
     "metadata": {},
     "output_type": "display_data"
    }
   ],
   "source": [
    "display(df)"
   ]
  }
 ],
 "metadata": {
  "colab": {
   "provenance": []
  },
  "kernelspec": {
   "display_name": "Python 3 (ipykernel)",
   "language": "python",
   "name": "python3"
  },
  "language_info": {
   "codemirror_mode": {
    "name": "ipython",
    "version": 3
   },
   "file_extension": ".py",
   "mimetype": "text/x-python",
   "name": "python",
   "nbconvert_exporter": "python",
   "pygments_lexer": "ipython3",
   "version": "3.10.6"
  }
 },
 "nbformat": 4,
 "nbformat_minor": 4
}
