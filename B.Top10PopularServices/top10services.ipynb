{
 "cells": [
  {
   "cell_type": "code",
   "execution_count": 1,
   "metadata": {
    "id": "3qyFSk82XyI8"
   },
   "outputs": [],
   "source": [
    "import json"
   ]
  },
  {
   "cell_type": "code",
   "execution_count": 2,
   "metadata": {
    "id": "6-sxQdINX3Nl"
   },
   "outputs": [],
   "source": [
    "# Replace 'output_file_name' with the actual file name of the output file\n",
    "output_file_name = 'top10services_05-04-2023_15_02_50.txt'"
   ]
  },
  {
   "cell_type": "code",
   "execution_count": 3,
   "metadata": {
    "id": "pnJ-NcBCYEyK"
   },
   "outputs": [],
   "source": [
    "# Read the output file content\n",
    "with open(output_file_name, 'r') as file:\n",
    "    data = file.read()"
   ]
  },
  {
   "cell_type": "code",
   "execution_count": 4,
   "metadata": {
    "id": "0Php6Zc0YF-h"
   },
   "outputs": [],
   "source": [
    "# Load the JSON data into a Python list\n",
    "top_services = json.loads(data)"
   ]
  },
  {
   "cell_type": "code",
   "execution_count": 5,
   "metadata": {
    "id": "RSapX5v-YHgy"
   },
   "outputs": [],
   "source": [
    "# Load the JSON data into a Python list\n",
    "top_services = json.loads(data)"
   ]
  },
  {
   "cell_type": "code",
   "execution_count": 9,
   "metadata": {
    "colab": {
     "base_uri": "https://localhost:8080/"
    },
    "id": "D0BdzFz6YJYh",
    "outputId": "e8a56ace-2f3a-4a35-a49e-3929b12b6d30"
   },
   "outputs": [
    {
     "name": "stdout",
     "output_type": "stream",
     "text": [
      "Rank\tAddress\t\t\t\t\t\tEthereum Value\n",
      "----\t-------\t\t\t\t\t\t-------------\n",
      "1\t0xaa1a6e3e6ef20068f7f8d8c835d2d22fd5116444\t84155363699941767867374641\n",
      "2\t0x7727e5113d1d161373623e5f49fd568b4f543a9e\t45627128512915344587749920\n",
      "3\t0x209c4784ab1e8183cf58ca33cb740efbf3fc18ef\t42552989136413198919298969\n",
      "4\t0xbfc39b6f805a9e40e77291aff27aee3c96915bdd\t21104195138093660050000000\n",
      "5\t0xe94b04a0fed112f3664e45adb2b8915693dd5ff3\t15543077635263742254719409\n",
      "6\t0xabbb6bebfa05aa13e908eaa492bd7a8343760477\t10719485945628946136524680\n",
      "7\t0x341e790174e3a4d35b65fdc067b6b5634a61caea\t8379000751917755624057500\n",
      "8\t0x58ae42a38d6b33a1e31492b60465fa80da595755\t2902709187105736532863818\n",
      "9\t0xc7c7f6660102e9a1fee1390df5c76ea5a5572ed3\t1238086114520042000000000\n",
      "10\t0xe28e72fcf78647adce1f1252f240bbfaebd63bcc\t1172426432515823142714582\n"
     ]
    }
   ],
   "source": [
    "# Print the header with column names\n",
    "print(\"Rank\\tAddress\\t\\t\\t\\t\\t\\tEthereum Value\")\n",
    "print(\"----\\t-------\\t\\t\\t\\t\\t\\t-------------\")\n",
    "# Print the top 10 smart contracts with their rank, address, and Ethereum value\n",
    "for rank, contract in enumerate(top_services, start=1):\n",
    "    address = contract[0]\n",
    "    value = contract[1]\n",
    "    print(f\"{rank}\\t{address}\\t{value}\")"
   ]
  }
 ],
 "metadata": {
  "colab": {
   "provenance": []
  },
  "kernelspec": {
   "display_name": "Python 3 (ipykernel)",
   "language": "python",
   "name": "python3"
  },
  "language_info": {
   "codemirror_mode": {
    "name": "ipython",
    "version": 3
   },
   "file_extension": ".py",
   "mimetype": "text/x-python",
   "name": "python",
   "nbconvert_exporter": "python",
   "pygments_lexer": "ipython3",
   "version": "3.10.6"
  }
 },
 "nbformat": 4,
 "nbformat_minor": 4
}
