{
 "cells": [
  {
   "cell_type": "code",
   "execution_count": 1,
   "metadata": {
    "id": "3qyFSk82XyI8"
   },
   "outputs": [],
   "source": [
    "import json"
   ]
  },
  {
   "cell_type": "code",
   "execution_count": 2,
   "metadata": {
    "id": "6-sxQdINX3Nl"
   },
   "outputs": [],
   "source": [
    "# Replace 'output_file_name' with the actual file name of the output file\n",
    "output_file_name = 'top10miners_05-04-2023_15_08_15.txt'"
   ]
  },
  {
   "cell_type": "code",
   "execution_count": 3,
   "metadata": {
    "id": "pnJ-NcBCYEyK"
   },
   "outputs": [],
   "source": [
    "# Read the output file content\n",
    "with open(output_file_name, 'r') as file:\n",
    "    data = file.read()"
   ]
  },
  {
   "cell_type": "code",
   "execution_count": 4,
   "metadata": {
    "id": "0Php6Zc0YF-h"
   },
   "outputs": [],
   "source": [
    "# Load the JSON data into a Python list\n",
    "active_miners = json.loads(data)"
   ]
  },
  {
   "cell_type": "code",
   "execution_count": 5,
   "metadata": {
    "id": "RSapX5v-YHgy"
   },
   "outputs": [],
   "source": [
    "# Load the JSON data into a Python list\n",
    "active_miners = json.loads(data)"
   ]
  },
  {
   "cell_type": "code",
   "execution_count": 6,
   "metadata": {
    "colab": {
     "base_uri": "https://localhost:8080/"
    },
    "id": "D0BdzFz6YJYh",
    "outputId": "84728ed9-6eba-4061-aa43-465b459d2f6d"
   },
   "outputs": [
    {
     "name": "stdout",
     "output_type": "stream",
     "text": [
      "Rank\tMiner\t\t\t\t\t\tBlock Size\n",
      "----\t-------\t\t\t\t\t\t-------------\n",
      "1\t0xea674fdde714fd979de3edf0f56aa9716b898ec8\t17453393724\n",
      "2\t0x829bd824b016326a401d083b33d092293333a830\t12310472526\n",
      "3\t0x5a0b54d5dc17e0aadc383d2db43b0a0d3e029c4c\t8825710065\n",
      "4\t0x52bc44d5378309ee2abf1539bf71de1b7d7be3b5\t8451574409\n",
      "5\t0xb2930b35844a230f00e51431acae96fe543a0347\t6614130661\n",
      "6\t0x2a65aca4d5fc5b5c859090a6c34d164135398226\t3173096011\n",
      "7\t0xf3b9d2c81f2b24b0fa0acaaa865b7d9ced5fc2fb\t1152847020\n",
      "8\t0x4bb96091ee9d802ed039c4d1a5f6216f90f81b01\t1134151226\n",
      "9\t0x1e9939daaad6924ad004c2560e90804164900341\t1080436358\n",
      "10\t0x61c808d82a3ac53231750dadc13c777b59310bd9\t692942577\n"
     ]
    }
   ],
   "source": [
    "# Print the header with column names\n",
    "print(\"Rank\\tMiner\\t\\t\\t\\t\\t\\tBlock Size\")\n",
    "print(\"----\\t-------\\t\\t\\t\\t\\t\\t-------------\")\n",
    "# Print the top 10 smart contracts with their rank, address, and Ethereum value\n",
    "for rank, contract in enumerate(active_miners, start=1):\n",
    "    address = contract[0]\n",
    "    value = contract[1]\n",
    "    print(f\"{rank}\\t{address}\\t{value}\")"
   ]
  }
 ],
 "metadata": {
  "colab": {
   "provenance": []
  },
  "kernelspec": {
   "display_name": "Python 3 (ipykernel)",
   "language": "python",
   "name": "python3"
  },
  "language_info": {
   "codemirror_mode": {
    "name": "ipython",
    "version": 3
   },
   "file_extension": ".py",
   "mimetype": "text/x-python",
   "name": "python",
   "nbconvert_exporter": "python",
   "pygments_lexer": "ipython3",
   "version": "3.10.6"
  }
 },
 "nbformat": 4,
 "nbformat_minor": 4
}
